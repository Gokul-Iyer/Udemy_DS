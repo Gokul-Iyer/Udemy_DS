{
 "cells": [
  {
   "cell_type": "code",
   "execution_count": 1,
   "metadata": {},
   "outputs": [],
   "source": [
    "import numpy as np\n",
    "import tensorflow as tf\n",
    "import tensorflow_datasets as tfds"
   ]
  },
  {
   "cell_type": "code",
   "execution_count": 2,
   "metadata": {},
   "outputs": [],
   "source": [
    "#download and load dataset\n",
    "mnist_dataset, mnist_info = tfds.load(\"mnist\",with_info=True,as_supervised=True)"
   ]
  },
  {
   "cell_type": "code",
   "execution_count": 3,
   "metadata": {},
   "outputs": [
    {
     "data": {
      "text/plain": [
       "'The MNIST database of handwritten digits.'"
      ]
     },
     "execution_count": 3,
     "metadata": {},
     "output_type": "execute_result"
    }
   ],
   "source": [
    "mnist_info.description"
   ]
  },
  {
   "cell_type": "code",
   "execution_count": 4,
   "metadata": {},
   "outputs": [
    {
     "data": {
      "text/plain": [
       "{'train': <SplitInfo num_examples=60000, num_shards=1>,\n",
       " 'test': <SplitInfo num_examples=10000, num_shards=1>}"
      ]
     },
     "execution_count": 4,
     "metadata": {},
     "output_type": "execute_result"
    }
   ],
   "source": [
    "mnist_info.splits"
   ]
  },
  {
   "cell_type": "code",
   "execution_count": 5,
   "metadata": {},
   "outputs": [],
   "source": [
    "#creating validation sample size and test samples size\n",
    "num_validation_sample = 0.1 * mnist_info.splits[\"train\"].num_examples\n",
    "num_validation_sample = tf.cast(num_validation_sample,tf.int64)\n",
    "\n",
    "num_test_samples = mnist_info.splits[\"test\"].num_examples\n",
    "num_test_samples = tf.cast(num_test_samples,tf.int64)"
   ]
  },
  {
   "cell_type": "code",
   "execution_count": 6,
   "metadata": {},
   "outputs": [
    {
     "data": {
      "text/plain": [
       "FeaturesDict({\n",
       "    'image': Image(shape=(28, 28, 1), dtype=uint8),\n",
       "    'label': ClassLabel(shape=(), dtype=int64, num_classes=10),\n",
       "})"
      ]
     },
     "execution_count": 6,
     "metadata": {},
     "output_type": "execute_result"
    }
   ],
   "source": [
    "mnist_info.features"
   ]
  },
  {
   "cell_type": "code",
   "execution_count": 7,
   "metadata": {},
   "outputs": [],
   "source": [
    "def scale(image,label):\n",
    "    image = tf.cast(image,tf.float32)\n",
    "    image /= 255\n",
    "    return image,label"
   ]
  },
  {
   "cell_type": "code",
   "execution_count": 8,
   "metadata": {},
   "outputs": [
    {
     "data": {
      "text/plain": [
       "dict_items([('train', <_PrefetchDataset element_spec=(TensorSpec(shape=(28, 28, 1), dtype=tf.uint8, name=None), TensorSpec(shape=(), dtype=tf.int64, name=None))>), ('test', <_PrefetchDataset element_spec=(TensorSpec(shape=(28, 28, 1), dtype=tf.uint8, name=None), TensorSpec(shape=(), dtype=tf.int64, name=None))>)])"
      ]
     },
     "execution_count": 8,
     "metadata": {},
     "output_type": "execute_result"
    }
   ],
   "source": [
    "mnist_dataset.items()"
   ]
  },
  {
   "cell_type": "code",
   "execution_count": 9,
   "metadata": {},
   "outputs": [],
   "source": [
    "mnist_train, mnist_test = mnist_dataset[\"train\"], mnist_dataset[\"test\"]\n",
    "\n",
    "train_and_validation = mnist_train.map(scale)\n",
    "test = mnist_test.map(scale)"
   ]
  },
  {
   "cell_type": "code",
   "execution_count": null,
   "metadata": {},
   "outputs": [
    {
     "name": "stdout",
     "output_type": "stream",
     "text": [
      "Epoch 1/5\n"
     ]
    },
    {
     "name": "stderr",
     "output_type": "stream",
     "text": [
      "d:\\anaconda\\Lib\\site-packages\\keras\\src\\layers\\reshaping\\flatten.py:37: UserWarning: Do not pass an `input_shape`/`input_dim` argument to a layer. When using Sequential models, prefer using an `Input(shape)` object as the first layer in the model instead.\n",
      "  super().__init__(**kwargs)\n"
     ]
    },
    {
     "name": "stdout",
     "output_type": "stream",
     "text": [
      "540/540 - 2s - 3ms/step - accuracy: 0.8893 - loss: 0.3899 - val_accuracy: 0.9500 - val_loss: 0.1471\n",
      "Epoch 2/5\n",
      "540/540 - 1s - 1ms/step - accuracy: 0.9500 - loss: 0.1740 - val_accuracy: 0.9500 - val_loss: 0.1094\n",
      "Epoch 3/5\n",
      "540/540 - 1s - 1ms/step - accuracy: 0.9605 - loss: 0.1326 - val_accuracy: 0.9700 - val_loss: 0.1117\n",
      "Epoch 4/5\n",
      "540/540 - 1s - 1ms/step - accuracy: 0.9681 - loss: 0.1074 - val_accuracy: 0.9600 - val_loss: 0.1341\n",
      "Epoch 5/5\n",
      "540/540 - 1s - 1ms/step - accuracy: 0.9734 - loss: 0.0896 - val_accuracy: 0.9700 - val_loss: 0.0863\n"
     ]
    },
    {
     "data": {
      "text/plain": [
       "<keras.src.callbacks.history.History at 0x228ca457560>"
      ]
     },
     "execution_count": 20,
     "metadata": {},
     "output_type": "execute_result"
    }
   ],
   "source": [
    "#model\n",
    "\n",
    "Buffersize = 10000\n",
    "shuffled_train_and_validation = train_and_validation.shuffle(Buffersize) #shuffling data\n",
    "train_data = shuffled_train_and_validation.skip(num_validation_sample)      #spliting train\n",
    "validation_data = shuffled_train_and_validation.take(num_validation_sample) #splitting validation\n",
    "\n",
    "Batchsize = 100\n",
    "train_data = train_data.batch(Batchsize)\n",
    "validation_data = validation_data.batch(Batchsize)\n",
    "\n",
    "validation_inputs, validation_targets = next(iter(validation_data))\n",
    "\n",
    "input_size = 784\n",
    "output_size = 10\n",
    "hidden_layer_size = 28*2\n",
    "\n",
    "model = tf.keras.Sequential([\n",
    "    tf.keras.layers.Flatten(input_shape = (28,28,1)),\n",
    "    tf.keras.layers.Dense(hidden_layer_size,activation=\"relu\"),\n",
    "    tf.keras.layers.Dense(hidden_layer_size,activation=\"relu\"),\n",
    "    tf.keras.layers.Dense(output_size,activation=\"softmax\")\n",
    "])\n",
    "\n",
    "#optimiser\n",
    "model.compile(optimizer = \"adam\", loss = \"sparse_categorical_crossentropy\", metrics = [\"accuracy\"])\n",
    "\n",
    "#training\n",
    "epochs = 5\n",
    "model.fit(train_data,epochs = epochs, validation_data = (validation_inputs, validation_targets), verbose=2)\n",
    "\n"
   ]
  },
  {
   "cell_type": "code",
   "execution_count": 22,
   "metadata": {},
   "outputs": [
    {
     "name": "stdout",
     "output_type": "stream",
     "text": [
      "\u001b[1m1/1\u001b[0m \u001b[32m━━━━━━━━━━━━━━━━━━━━\u001b[0m\u001b[37m\u001b[0m \u001b[1m0s\u001b[0m 110ms/step - accuracy: 0.9669 - loss: 0.1078\n"
     ]
    }
   ],
   "source": [
    "#testing the model\n",
    "#after model has seen test values changing the model will cause overfitting\n",
    "test = test.batch(num_test_samples)\n",
    "test_loss, test_accuracy = model.evaluate(test)"
   ]
  },
  {
   "cell_type": "code",
   "execution_count": null,
   "metadata": {},
   "outputs": [
    {
     "name": "stdout",
     "output_type": "stream",
     "text": [
      "Epoch 1/10\n"
     ]
    },
    {
     "name": "stderr",
     "output_type": "stream",
     "text": [
      "d:\\anaconda\\Lib\\site-packages\\keras\\src\\layers\\reshaping\\flatten.py:37: UserWarning: Do not pass an `input_shape`/`input_dim` argument to a layer. When using Sequential models, prefer using an `Input(shape)` object as the first layer in the model instead.\n",
      "  super().__init__(**kwargs)\n"
     ]
    },
    {
     "name": "stdout",
     "output_type": "stream",
     "text": [
      "216/216 - 7s - 35ms/step - accuracy: 0.9273 - loss: 0.2325 - val_accuracy: 0.9760 - val_loss: 0.0957\n",
      "Epoch 2/10\n",
      "216/216 - 6s - 30ms/step - accuracy: 0.9738 - loss: 0.0852 - val_accuracy: 0.9720 - val_loss: 0.1156\n",
      "Epoch 3/10\n",
      "216/216 - 6s - 29ms/step - accuracy: 0.9811 - loss: 0.0612 - val_accuracy: 0.9680 - val_loss: 0.1528\n",
      "Epoch 4/10\n",
      "216/216 - 6s - 29ms/step - accuracy: 0.9845 - loss: 0.0511 - val_accuracy: 0.9960 - val_loss: 0.0236\n",
      "Epoch 5/10\n",
      "216/216 - 6s - 29ms/step - accuracy: 0.9881 - loss: 0.0372 - val_accuracy: 0.9880 - val_loss: 0.0386\n",
      "Epoch 6/10\n",
      "216/216 - 6s - 29ms/step - accuracy: 0.9899 - loss: 0.0329 - val_accuracy: 0.9840 - val_loss: 0.0815\n",
      "Epoch 7/10\n",
      "216/216 - 6s - 29ms/step - accuracy: 0.9905 - loss: 0.0307 - val_accuracy: 0.9800 - val_loss: 0.0833\n",
      "Epoch 8/10\n",
      "216/216 - 6s - 29ms/step - accuracy: 0.9928 - loss: 0.0242 - val_accuracy: 0.9800 - val_loss: 0.0939\n",
      "Epoch 9/10\n",
      "216/216 - 6s - 30ms/step - accuracy: 0.9933 - loss: 0.0232 - val_accuracy: 0.9840 - val_loss: 0.0761\n",
      "Epoch 10/10\n",
      "216/216 - 6s - 30ms/step - accuracy: 0.9944 - loss: 0.0188 - val_accuracy: 0.9840 - val_loss: 0.0418\n"
     ]
    },
    {
     "data": {
      "text/plain": [
       "<keras.src.callbacks.history.History at 0x28521aeeff0>"
      ]
     },
     "execution_count": 10,
     "metadata": {},
     "output_type": "execute_result"
    }
   ],
   "source": [
    "#tweeking the model for higher accuracy\n",
    "\"\"\"\n",
    "Buffersize = 5000\n",
    "shuffled_train_and_validation = train_and_validation.shuffle(Buffersize) #shuffling data\n",
    "train_data = shuffled_train_and_validation.skip(num_validation_sample)      #spliting train\n",
    "validation_data = shuffled_train_and_validation.take(num_validation_sample) #splitting validation\n",
    "\n",
    "Batchsize = 250\n",
    "train_data = train_data.batch(Batchsize)\n",
    "validation_data = validation_data.batch(Batchsize)\n",
    "\n",
    "validation_inputs, validation_targets = next(iter(validation_data))\n",
    "\n",
    "input_size = 784\n",
    "output_size = 10\n",
    "hidden_layer_size = 28*28*2\n",
    "\n",
    "model = tf.keras.Sequential([\n",
    "    tf.keras.layers.Flatten(input_shape = (28,28,1)),\n",
    "    tf.keras.layers.Dense(hidden_layer_size,activation=\"relu\"),\n",
    "    tf.keras.layers.Dense(hidden_layer_size,activation=\"relu\"),\n",
    "    tf.keras.layers.Dense(hidden_layer_size,activation=\"relu\"),\n",
    "    tf.keras.layers.Dense(hidden_layer_size,activation=\"relu\"),\n",
    "    tf.keras.layers.Dense(output_size,activation=\"softmax\")\n",
    "])\n",
    "\n",
    "#optimiser\n",
    "model.compile(optimizer = \"adam\", loss = \"sparse_categorical_crossentropy\", metrics = [\"accuracy\"])\n",
    "\n",
    "#training\n",
    "epochs = 10\n",
    "model.fit(train_data,epochs = epochs, validation_data = (validation_inputs, validation_targets), verbose=2)\n",
    "\"\"\""
   ]
  },
  {
   "cell_type": "code",
   "execution_count": 11,
   "metadata": {},
   "outputs": [
    {
     "name": "stdout",
     "output_type": "stream",
     "text": [
      "\u001b[1m1/1\u001b[0m \u001b[32m━━━━━━━━━━━━━━━━━━━━\u001b[0m\u001b[37m\u001b[0m \u001b[1m0s\u001b[0m 307ms/step - accuracy: 0.9822 - loss: 0.0709\n"
     ]
    }
   ],
   "source": [
    "#testing model after tweeking \n",
    "test = test.batch(num_test_samples)\n",
    "test_loss, test_accuracy = model.evaluate(test)"
   ]
  },
  {
   "cell_type": "code",
   "execution_count": null,
   "metadata": {},
   "outputs": [],
   "source": []
  }
 ],
 "metadata": {
  "kernelspec": {
   "display_name": "base",
   "language": "python",
   "name": "python3"
  },
  "language_info": {
   "codemirror_mode": {
    "name": "ipython",
    "version": 3
   },
   "file_extension": ".py",
   "mimetype": "text/x-python",
   "name": "python",
   "nbconvert_exporter": "python",
   "pygments_lexer": "ipython3",
   "version": "3.12.4"
  }
 },
 "nbformat": 4,
 "nbformat_minor": 2
}
